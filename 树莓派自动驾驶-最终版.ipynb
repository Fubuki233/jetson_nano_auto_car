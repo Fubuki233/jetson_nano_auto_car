{
 "cells": [
  {
   "cell_type": "markdown",
   "metadata": {},
   "source": [
    "<center><img src=\"../logo.png\" alt=\"Header\" style=\"width: 800px;\"/></center>"
   ]
  },
  {
   "cell_type": "markdown",
   "metadata": {},
   "source": [
    "\n",
    "@Copyright (C): 2010-2022, Shenzhen Yahboom Tech  \n",
    "@Author: Liusen  \n",
    "@Date: 2020-02-16 15:03:02  \n",
    "@LastEditors: Liusen  \n",
    "@LastEditTime: 2020-02-16 15:50:02   "
   ]
  },
  {
   "cell_type": "markdown",
   "metadata": {},
   "source": [
    "# 定义模块和窗口"
   ]
  },
  {
   "cell_type": "code",
   "execution_count": 1,
   "metadata": {
    "ExecuteTime": {
     "end_time": "2024-03-18T10:10:21.847633Z",
     "start_time": "2024-03-18T10:10:21.356810Z"
    }
   },
   "outputs": [],
   "source": [
    "from IPython.display import display\n",
    "import ipywidgets.widgets as widgets\n",
    "import cv2\n",
    "import time\n",
    "\n",
    "# 线程功能操作库\n",
    "import threading\n",
    "import inspect\n",
    "import ctypes\n",
    "import matplotlib.pyplot as plt"
   ]
  },
  {
   "cell_type": "code",
   "execution_count": 2,
   "metadata": {
    "ExecuteTime": {
     "end_time": "2024-03-18T10:10:21.853781Z",
     "start_time": "2024-03-18T10:10:21.848632Z"
    }
   },
   "outputs": [],
   "source": [
    "def _async_raise(tid, exctype):\n",
    "    \"\"\"raises the exception, performs cleanup if needed\"\"\"\n",
    "    tid = ctypes.c_long(tid)\n",
    "    if not inspect.isclass(exctype):\n",
    "        exctype = type(exctype)\n",
    "    res = ctypes.pythonapi.PyThreadState_SetAsyncExc(tid, ctypes.py_object(exctype))\n",
    "    if res == 0:\n",
    "        raise ValueError(\"invalid thread id\")\n",
    "    elif res != 1:\n",
    "        # \"\"\"if it returns a number greater than one, you're in trouble,\n",
    "        # and you should call it again with exc=NULL to revert the effect\"\"\"\n",
    "        ctypes.pythonapi.PyThreadState_SetAsyncExc(tid, None)\n",
    "        \n",
    "def stop_thread(thread):\n",
    "    _async_raise(thread.ident, SystemExit)"
   ]
  },
  {
   "cell_type": "code",
   "execution_count": 4,
   "metadata": {
    "ExecuteTime": {
     "end_time": "2024-03-18T10:10:41.856204Z",
     "start_time": "2024-03-18T10:10:41.841172Z"
    }
   },
   "outputs": [
    {
     "ename": "ModuleNotFoundError",
     "evalue": "No module named 'YB_Pcb_Car'",
     "output_type": "error",
     "traceback": [
      "\u001B[1;31m---------------------------------------------------------------------------\u001B[0m",
      "\u001B[1;31mModuleNotFoundError\u001B[0m                       Traceback (most recent call last)",
      "Cell \u001B[1;32mIn[4], line 1\u001B[0m\n\u001B[1;32m----> 1\u001B[0m \u001B[38;5;28;01mimport\u001B[39;00m \u001B[38;5;21;01mYB_Pcb_Car\u001B[39;00m  \u001B[38;5;66;03m#导入亚博智能专用的底层库文件\u001B[39;00m\n\u001B[0;32m      3\u001B[0m car \u001B[38;5;241m=\u001B[39m YB_Pcb_Car\u001B[38;5;241m.\u001B[39mYB_Pcb_Car()\n\u001B[0;32m      4\u001B[0m car\u001B[38;5;241m.\u001B[39mCtrl_Servo(\u001B[38;5;241m1\u001B[39m,\u001B[38;5;241m93\u001B[39m)\n",
      "\u001B[1;31mModuleNotFoundError\u001B[0m: No module named 'YB_Pcb_Car'"
     ]
    }
   ],
   "source": [
    "import YB_Pcb_Car  #导入亚博智能专用的底层库文件\n",
    "\n",
    "car = YB_Pcb_Car.YB_Pcb_Car()\n",
    "car.Ctrl_Servo(1,93)\n",
    "car.Ctrl_Servo(2,160)"
   ]
  },
  {
   "cell_type": "markdown",
   "metadata": {},
   "source": [
    "# 车体状态显示部分进程"
   ]
  },
  {
   "cell_type": "markdown",
   "metadata": {},
   "source": [
    "##### 自动驾驶"
   ]
  },
  {
   "cell_type": "code",
   "execution_count": 5,
   "metadata": {
    "ExecuteTime": {
     "end_time": "2024-03-18T10:10:43.779067Z",
     "start_time": "2024-03-18T10:10:43.767265Z"
    }
   },
   "outputs": [
    {
     "data": {
      "text/plain": "HBox(children=(FloatSlider(value=0.0, description='TurnZ_PID', min=-100.0, orientation='vertical', step=0.01),…",
      "application/vnd.jupyter.widget-view+json": {
       "version_major": 2,
       "version_minor": 0,
       "model_id": "d6e83a9243a34c3081439ada0f293c1f"
      }
     },
     "metadata": {},
     "output_type": "display_data"
    }
   ],
   "source": [
    "#转向PID输出值\n",
    "TurnZ_PID_slider = widgets.FloatSlider(description='TurnZ_PID', min=-100, max=100.0, step=0.01, orientation='Vertical')\n",
    "# create a horizontal box container to place the sliders next to eachother\n",
    "slider_container = widgets.HBox([TurnZ_PID_slider])\n",
    "# display the container in this cell's output\n",
    "display(slider_container)"
   ]
  },
  {
   "cell_type": "code",
   "execution_count": 6,
   "metadata": {
    "ExecuteTime": {
     "end_time": "2024-03-18T10:10:44.343077Z",
     "start_time": "2024-03-18T10:10:44.339739Z"
    }
   },
   "outputs": [],
   "source": [
    "#bgr8转jpeg格式\n",
    "import enum\n",
    "import cv2\n",
    "\n",
    "def bgr8_to_jpeg(value, quality=75):\n",
    "    return bytes(cv2.imencode('.jpg', value)[1])"
   ]
  },
  {
   "cell_type": "code",
   "execution_count": 7,
   "metadata": {
    "ExecuteTime": {
     "end_time": "2024-03-18T10:10:44.858474Z",
     "start_time": "2024-03-18T10:10:44.844112Z"
    }
   },
   "outputs": [
    {
     "ename": "ModuleNotFoundError",
     "evalue": "No module named 'PID'",
     "output_type": "error",
     "traceback": [
      "\u001B[1;31m---------------------------------------------------------------------------\u001B[0m",
      "\u001B[1;31mModuleNotFoundError\u001B[0m                       Traceback (most recent call last)",
      "Cell \u001B[1;32mIn[7], line 8\u001B[0m\n\u001B[0;32m      6\u001B[0m \u001B[38;5;28;01mimport\u001B[39;00m \u001B[38;5;21;01mnumpy\u001B[39;00m \u001B[38;5;28;01mas\u001B[39;00m \u001B[38;5;21;01mnp\u001B[39;00m\n\u001B[0;32m      7\u001B[0m \u001B[38;5;28;01mimport\u001B[39;00m \u001B[38;5;21;01mmatplotlib\u001B[39;00m\u001B[38;5;21;01m.\u001B[39;00m\u001B[38;5;21;01mpyplot\u001B[39;00m \u001B[38;5;28;01mas\u001B[39;00m \u001B[38;5;21;01mplt\u001B[39;00m\n\u001B[1;32m----> 8\u001B[0m \u001B[38;5;28;01mimport\u001B[39;00m \u001B[38;5;21;01mPID\u001B[39;00m\n\u001B[0;32m     10\u001B[0m image_widget \u001B[38;5;241m=\u001B[39m widgets\u001B[38;5;241m.\u001B[39mImage(\u001B[38;5;28mformat\u001B[39m\u001B[38;5;241m=\u001B[39m\u001B[38;5;124m'\u001B[39m\u001B[38;5;124mjpg\u001B[39m\u001B[38;5;124m'\u001B[39m, width\u001B[38;5;241m=\u001B[39m\u001B[38;5;241m320\u001B[39m, height\u001B[38;5;241m=\u001B[39m\u001B[38;5;241m240\u001B[39m)\n\u001B[0;32m     11\u001B[0m display(image_widget)\n",
      "\u001B[1;31mModuleNotFoundError\u001B[0m: No module named 'PID'"
     ]
    }
   ],
   "source": [
    "#摄像头组件显示\n",
    "import cv2\n",
    "import ipywidgets.widgets as widgets\n",
    "import threading\n",
    "import time\n",
    "import numpy as np\n",
    "import matplotlib.pyplot as plt\n",
    "import PID\n",
    "\n",
    "image_widget = widgets.Image(format='jpg', width=320, height=240)\n",
    "display(image_widget)"
   ]
  },
  {
   "cell_type": "code",
   "execution_count": 8,
   "metadata": {
    "ExecuteTime": {
     "end_time": "2024-03-18T10:10:45.448297Z",
     "start_time": "2024-03-18T10:10:45.442109Z"
    }
   },
   "outputs": [
    {
     "data": {
      "text/plain": "Image(value=b'', format='jpg', height='240', width='320')",
      "application/vnd.jupyter.widget-view+json": {
       "version_major": 2,
       "version_minor": 0,
       "model_id": "c60d446b36e34504b32ccd73e54eb212"
      }
     },
     "metadata": {},
     "output_type": "display_data"
    }
   ],
   "source": [
    "#俯视图\n",
    "image_widget_1 = widgets.Image(format='jpg', width=320, height=240)\n",
    "display(image_widget_1)"
   ]
  },
  {
   "cell_type": "code",
   "execution_count": 9,
   "metadata": {
    "ExecuteTime": {
     "end_time": "2024-03-18T10:10:45.967693Z",
     "start_time": "2024-03-18T10:10:45.961991Z"
    }
   },
   "outputs": [
    {
     "data": {
      "text/plain": "Image(value=b'', format='jpg', height='240', width='320')",
      "application/vnd.jupyter.widget-view+json": {
       "version_major": 2,
       "version_minor": 0,
       "model_id": "a70d05190ec043f9b5d9bac79d379abb"
      }
     },
     "metadata": {},
     "output_type": "display_data"
    }
   ],
   "source": [
    "#归一化图+左线（淡绿色） 图像中线（紫色）实际中线（蓝色） 右线（绿色）\n",
    "image_widget_2 = widgets.Image(format='jpg', width=320, height=240)\n",
    "display(image_widget_2)"
   ]
  },
  {
   "cell_type": "code",
   "execution_count": 10,
   "metadata": {
    "scrolled": true,
    "ExecuteTime": {
     "end_time": "2024-03-18T10:10:46.789189Z",
     "start_time": "2024-03-18T10:10:46.495846Z"
    }
   },
   "outputs": [
    {
     "data": {
      "text/plain": "True"
     },
     "execution_count": 10,
     "metadata": {},
     "output_type": "execute_result"
    }
   ],
   "source": [
    "image = cv2.VideoCapture(0)\n",
    "image.set(3,640)\n",
    "image.set(4,480)\n",
    "image.set(5, 30)  #设置帧率\n",
    "# fourcc = cv2.VideoWriter_fourcc(*\"MPEG\")\n",
    "image.set(cv2.CAP_PROP_FOURCC, cv2.VideoWriter.fourcc('M', 'J', 'P', 'G'))\n",
    "image.set(cv2.CAP_PROP_BRIGHTNESS, 60) #设置亮度 -64 - 64  0.0  40\n",
    "#image.set(cv2.CAP_PROP_CONTRAST, 50) #设置对比度 -64 - 64  2.0  50\n",
    "#image.set(cv2.CAP_PROP_EXPOSURE, 156) #设置曝光值 1.0 - 5000  156.0 156\n",
    "#ret, frame = image.read()\n",
    "#image_widget.value = bgr8_to_jpeg(frame)"
   ]
  },
  {
   "cell_type": "markdown",
   "metadata": {},
   "source": [
    "# 以下正式开始自动驾驶的进程"
   ]
  },
  {
   "cell_type": "code",
   "execution_count": 11,
   "metadata": {
    "ExecuteTime": {
     "end_time": "2024-03-18T10:10:48.833260Z",
     "start_time": "2024-03-18T10:10:48.813422Z"
    }
   },
   "outputs": [
    {
     "ename": "NameError",
     "evalue": "name 'PID' is not defined",
     "output_type": "error",
     "traceback": [
      "\u001B[1;31m---------------------------------------------------------------------------\u001B[0m",
      "\u001B[1;31mNameError\u001B[0m                                 Traceback (most recent call last)",
      "Cell \u001B[1;32mIn[11], line 2\u001B[0m\n\u001B[0;32m      1\u001B[0m \u001B[38;5;28;01mglobal\u001B[39;00m Z_axis_pid\n\u001B[1;32m----> 2\u001B[0m Z_axis_pid \u001B[38;5;241m=\u001B[39m \u001B[43mPID\u001B[49m\u001B[38;5;241m.\u001B[39mPositionalPID(\u001B[38;5;241m0.5\u001B[39m, \u001B[38;5;241m0\u001B[39m, \u001B[38;5;241m1\u001B[39m)  \u001B[38;5;66;03m#1.2 0 0.1   （0.8 0.0 1.0可以跑有点震荡 0.85 0 2.0）\u001B[39;00m\n\u001B[0;32m      3\u001B[0m \u001B[38;5;28;01mglobal\u001B[39;00m prev_left\n\u001B[0;32m      4\u001B[0m prev_left \u001B[38;5;241m=\u001B[39m \u001B[38;5;241m0\u001B[39m\n",
      "\u001B[1;31mNameError\u001B[0m: name 'PID' is not defined"
     ]
    }
   ],
   "source": [
    "global Z_axis_pid\n",
    "Z_axis_pid = PID.PositionalPID(0.5, 0, 1)  #1.2 0 0.1   （0.8 0.0 1.0可以跑有点震荡 0.85 0 2.0）\n",
    "global prev_left\n",
    "prev_left = 0\n",
    "global prev_right\n",
    "prev_right = 0"
   ]
  },
  {
   "cell_type": "code",
   "execution_count": 12,
   "metadata": {
    "scrolled": true,
    "ExecuteTime": {
     "end_time": "2024-03-18T10:10:49.487865Z",
     "start_time": "2024-03-18T10:10:49.470984Z"
    }
   },
   "outputs": [],
   "source": [
    "def Camera_display():\n",
    "    global peaks_count\n",
    "    global prev_left, prev_right\n",
    "    t_start = time.time()\n",
    "    fps = 0\n",
    "    global Z_axis_pid\n",
    "    \n",
    "    while 1:\n",
    "        #1、获取图像\n",
    "        ret, frame = image.read()\n",
    "        \n",
    "        #帧率显示\n",
    "        fps = fps + 1\n",
    "        mfps = fps / (time.time() - t_start)\n",
    "        cv2.putText(frame, \"FPS: \" + str(int(mfps)), (80,80), cv2.FONT_HERSHEY_SIMPLEX, 3.0, (0,255,255), 8)\n",
    "        \n",
    "        #图像resize\n",
    "        frame = cv2.resize(frame,(320,240))\n",
    "        \n",
    "        \n",
    "        #2、透视变换 (查看俯视图)\n",
    "        matSrc = np.float32([[0, 149],  [320, 149], [281, 72], [43, 72]])\n",
    "        matDst = np.float32([[0,240], [320,240], [320,0], [0,0]])\n",
    "        matAffine = cv2.getPerspectiveTransform(matSrc,matDst)# mat 1 src 2 dst\n",
    "        dst = cv2.warpPerspective(frame,matAffine,(320,240))\n",
    "        \n",
    "        #画蓝色的矩形框，采集数据的时候采集的就是当前蓝色矩形框中的数据\n",
    "        #src 4->dst 4 (左下角 右下角 右上角 左上角 )\n",
    "        pts = np.array([[0, 149],  [320, 149], [281, 72], [43, 72]], np.int32)\n",
    "        # 顶点个数：4，矩阵变成4*1*2维\n",
    "        # OpenCV中需要将多边形的顶点坐标变成顶点数×1×2维的矩阵\n",
    "        # 这里 reshape 的第一个参数为-1, 表示“任意”，意思是这一维的值是根据后面的维度的计算出来的       \n",
    "        pts = pts.reshape((-1, 1, 2))\n",
    "        cv2.polylines(frame, [pts],True, (255, 0, 0), 3) #True表示闭合，（255,0,0）是蓝色，3是线宽\n",
    "        hsv = cv2.cvtColor(dst, cv2.COLOR_BGR2HSV)\n",
    "        lower_red = np.array([0, 70, 72])\n",
    "        upper_red = np.array([7, 255, 255])\n",
    "        dst = cv2.inRange(hsv, lower_red, upper_red)\n",
    "        dst=cv2.bitwise_not(dst)\n",
    "        #cv.imwrite('./photos/red_mask.jpg', red_mask)\n",
    "        #img_show(dst,\"red\")\n",
    "        #3、转化图像二值化(看二值化之后的黑白图像）\n",
    "        #dst_gray = cv2.cvtColor(dst, cv2.COLOR_RGB2GRAY)   #转灰度\n",
    "        #dst_retval, dst_binaryzation = cv2.threshold(dst_gray, 120, 255, cv2.THRESH_BINARY)   #二值化\n",
    "        dst_binaryzation = cv2.erode(dst, None, iterations=1)                    #腐蚀化操作\n",
    "        \n",
    " \n",
    "        # 当axis为0时,是压缩行,即将每一列的元素相加,将矩阵压缩为一行\n",
    "        # 当axis为1时,是压缩列,即将每一行的元素相加,将矩阵压缩为一列(这里的一列是为了方便理解说的，实际上，在控制台的输出中，仍然是以一行的形式输出的)\n",
    "        histogram = np.sum(dst_binaryzation[dst_binaryzation.shape[0]//2:, :], axis=0)  #我们这里是一维数组\n",
    "        midpoint = np.int(histogram.shape[0]/2) #直方图垂直尺寸\n",
    "        \n",
    "        left_sum = np.sum(histogram[:20], axis=0)  #计算左边像素点之和\n",
    "        right_sum = np.sum(histogram[300:], axis=0)  #计算右边像素点之和\n",
    "        \n",
    "        #print(\"left_sum =%d \"%left_sum)\n",
    "        #print(\"right_sum = %d\"%right_sum)\n",
    "        \n",
    "        \n",
    "        rightpoint = 320\n",
    "        center_r = 159\n",
    "        #print (histogram)\n",
    "        #print(histogram[::-1])\n",
    "        #plt.plot(histogram)\n",
    "        #plt.plot(histogram[::-1])\n",
    "        #plt.show()\n",
    "        \n",
    "        #4、获取黑线左右边线并绘制线条\n",
    "        #获取左右线的位置\n",
    "        leftx_base = np.argmin(histogram[:rightpoint], axis = 0)\n",
    "        rightx_base = np.argmin(histogram[::-1][:rightpoint], axis = 0) #反转直方图取最右侧的值\n",
    "        rightx_base = 319 - rightx_base\n",
    "\n",
    "        dst_binaryzation = cv2.cvtColor(dst_binaryzation,cv2.COLOR_GRAY2RGB)\n",
    "        cv2.line(dst_binaryzation,(159,0),(159,240),(255,0,255),2)  #图像中线 紫色 # fix liusen 200321  149->159\n",
    "        lane_center = int((leftx_base + rightx_base)/2)  #左右线中间位置\n",
    "        #print(\"lane_center\")\n",
    "        #print(lane_center)\n",
    "        cv2.line(dst_binaryzation,(leftx_base,0),(leftx_base,240),(0,255,0),2)   # 赛道左侧位置\n",
    "        cv2.line(dst_binaryzation,(rightx_base,0),(rightx_base,240),(0,255,0),2) # 赛道右侧位置\n",
    "        cv2.line(dst_binaryzation,(lane_center,0),(lane_center,240),(255,0,0),2) # 实际中线位置\n",
    "        \n",
    "        left_sum_value = int(np.sum(histogram[:center_r], axis = 0))/159\n",
    "        right_sum_value = int(np.sum(histogram[center_r:], axis = 0))/159\n",
    "        #print(\"left_sum_value = %d\", left_sum_value)\n",
    "        #print(\"right_sum_value = %d\", right_sum_value)\n",
    "        #5、计算偏差值\n",
    "        Bias = 159 - lane_center\n",
    "        cv2.putText(dst_binaryzation, \"FPS:  \" + str(int(mfps)), (10,15), cv2.FONT_HERSHEY_SIMPLEX, 0.5, (0,255,255), 1)\n",
    "        cv2.putText(dst_binaryzation, \"Bias: \" + str(int(Bias)), (10,35), cv2.FONT_HERSHEY_SIMPLEX, 0.5, (0,255,255), 1)\n",
    "        #print(Bias)\n",
    "        \n",
    "        #转向角PID调节\n",
    "        Z_axis_pid.SystemOutput = Bias\n",
    "        Z_axis_pid.SetStepSignal(0)\n",
    "        Z_axis_pid.SetInertiaTime(0.5, 0.2)\n",
    "        \n",
    "        \n",
    "        if Z_axis_pid.SystemOutput > 25: # 20\n",
    "            Z_axis_pid.SystemOutput = 25\n",
    "        elif Z_axis_pid.SystemOutput < -25:\n",
    "            Z_axis_pid.SystemOutput = -25\n",
    "            \n",
    "        TurnZ_PID_slider.value = int(Z_axis_pid.SystemOutput)\n",
    "        \n",
    "       \n",
    "        if leftx_base == 0 and rightx_base == 319:\n",
    "            if prev_left > prev_right:\n",
    "                car.Control_Car(-70, 60)\n",
    "            elif prev_left < prev_right:\n",
    "                car.Control_Car(70, -70)\n",
    "                \n",
    "            prev_left = 0\n",
    "            prev_right = 0\n",
    "            \n",
    "        else:\n",
    "            if Bias > 3:   #黑线在中线的左边，小车左转（左边速度减小，右边速度增大）\n",
    "                #prev_left = 1\n",
    "                #prev_right = 0\n",
    "                if Bias > 140: \n",
    "                    car.Control_Car(-70, 60)\n",
    "                    prev_left = 0\n",
    "                    prev_right = 0\n",
    "                else:\n",
    "                    car.Control_Car(45+int(Z_axis_pid.SystemOutput), 45-int(Z_axis_pid.SystemOutput))\n",
    "                time.sleep(0.001) \n",
    "            elif Bias < -3:    #黑线在中线的右边，小车右转   （左边速度增大，右边速度减小）\n",
    "                #prev_right = 1\n",
    "                #prev_left = 0\n",
    "                if Bias < -140:   \n",
    "                    car.Control_Car(60, -70)\n",
    "                    prev_left = 0\n",
    "                    prev_right = 0\n",
    "                else:\n",
    "                    car.Control_Car(45+int(Z_axis_pid.SystemOutput), 45-int(Z_axis_pid.SystemOutput))\n",
    "                time.sleep(0.001)\n",
    "\n",
    "            else:\n",
    "                car.Car_Run(45, 45)\n",
    "     \n",
    "        \n",
    "\n",
    "\n",
    "        if left_sum != right_sum:\n",
    "            if left_sum < right_sum:\n",
    "                prev_left = prev_left + 1\n",
    "            elif right_sum < left_sum:\n",
    "                prev_right = prev_right + 1\n",
    "\n",
    "        \n",
    "\n",
    "        image_widget.value = bgr8_to_jpeg(frame)\n",
    "        image_widget_1.value = bgr8_to_jpeg(dst)\n",
    "        image_widget_2.value = bgr8_to_jpeg(dst_binaryzation)\n",
    "\n"
   ]
  },
  {
   "cell_type": "code",
   "execution_count": 16,
   "metadata": {
    "scrolled": true,
    "ExecuteTime": {
     "end_time": "2024-03-18T10:09:57.180195Z",
     "start_time": "2024-03-18T10:09:57.172721Z"
    }
   },
   "outputs": [
    {
     "name": "stderr",
     "output_type": "stream",
     "text": [
      "C:\\Users\\HI\\AppData\\Local\\Temp\\ipykernel_3172\\2806755357.py:3: DeprecationWarning: setDaemon() is deprecated, set the daemon attribute instead\n",
      "  thread3.setDaemon(True)\n"
     ]
    }
   ],
   "source": [
    "#自动驾驶进程启动\n",
    "thread3 = threading.Thread(target=Camera_display)\n",
    "thread3.setDaemon(True)\n",
    "thread3.start()"
   ]
  },
  {
   "cell_type": "code",
   "execution_count": 13,
   "metadata": {
    "ExecuteTime": {
     "end_time": "2024-03-18T10:01:55.734105Z",
     "start_time": "2024-03-18T10:01:55.715341Z"
    }
   },
   "outputs": [
    {
     "ename": "NameError",
     "evalue": "name 'thread3' is not defined",
     "output_type": "error",
     "traceback": [
      "\u001B[1;31m---------------------------------------------------------------------------\u001B[0m",
      "\u001B[1;31mNameError\u001B[0m                                 Traceback (most recent call last)",
      "Cell \u001B[1;32mIn[13], line 2\u001B[0m\n\u001B[0;32m      1\u001B[0m \u001B[38;5;66;03m#结束自动驾驶进程\u001B[39;00m\n\u001B[1;32m----> 2\u001B[0m stop_thread(\u001B[43mthread3\u001B[49m)\n\u001B[0;32m      3\u001B[0m car\u001B[38;5;241m.\u001B[39mCar_Stop()\n",
      "\u001B[1;31mNameError\u001B[0m: name 'thread3' is not defined"
     ]
    }
   ],
   "source": [
    "#结束自动驾驶进程\n",
    "stop_thread(thread3)\n",
    "car.Car_Stop()"
   ]
  },
  {
   "cell_type": "code",
   "execution_count": 14,
   "metadata": {
    "ExecuteTime": {
     "end_time": "2024-03-18T10:01:56.265933Z",
     "start_time": "2024-03-18T10:01:56.186592Z"
    }
   },
   "outputs": [],
   "source": [
    "image.release()"
   ]
  },
  {
   "cell_type": "code",
   "execution_count": null,
   "metadata": {},
   "outputs": [],
   "source": []
  },
  {
   "cell_type": "code",
   "execution_count": null,
   "metadata": {},
   "outputs": [],
   "source": []
  },
  {
   "cell_type": "code",
   "execution_count": null,
   "metadata": {},
   "outputs": [],
   "source": []
  },
  {
   "cell_type": "code",
   "execution_count": null,
   "metadata": {},
   "outputs": [],
   "source": []
  },
  {
   "cell_type": "code",
   "execution_count": null,
   "metadata": {},
   "outputs": [],
   "source": []
  },
  {
   "cell_type": "code",
   "execution_count": null,
   "metadata": {},
   "outputs": [],
   "source": []
  },
  {
   "cell_type": "code",
   "execution_count": null,
   "metadata": {},
   "outputs": [],
   "source": []
  },
  {
   "cell_type": "code",
   "execution_count": null,
   "metadata": {},
   "outputs": [],
   "source": []
  }
 ],
 "metadata": {
  "kernelspec": {
   "display_name": "Python 3",
   "language": "python",
   "name": "python3"
  },
  "language_info": {
   "codemirror_mode": {
    "name": "ipython",
    "version": 3
   },
   "file_extension": ".py",
   "mimetype": "text/x-python",
   "name": "python",
   "nbconvert_exporter": "python",
   "pygments_lexer": "ipython3",
   "version": "3.7.3"
  }
 },
 "nbformat": 4,
 "nbformat_minor": 4
}
