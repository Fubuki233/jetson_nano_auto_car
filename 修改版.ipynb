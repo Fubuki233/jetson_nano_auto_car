{
 "cells": [
  {
   "cell_type": "markdown",
   "metadata": {},
   "source": [
    "<center><img src=\"../logo.png\" alt=\"Header\" style=\"width: 800px;\"/></center>"
   ]
  },
  {
   "cell_type": "markdown",
   "metadata": {},
   "source": [
    "\n",
    "@Copyright (C): 2010-2022, Shenzhen Yahboom Tech  \n",
    "@Author: Liusen  \n",
    "@Date: 2020-02-16 15:03:02  \n",
    "@LastEditors: Liusen  \n",
    "@LastEditTime: 2020-02-16 15:50:02   "
   ]
  },
  {
   "cell_type": "markdown",
   "metadata": {},
   "source": [
    "# 定义模块和窗口"
   ]
  },
  {
   "cell_type": "code",
   "execution_count": 14,
   "metadata": {},
   "outputs": [],
   "source": [
    "from IPython.display import display\n",
    "import ipywidgets.widgets as widgets\n",
    "import cv2\n",
    "import time\n",
    "\n",
    "# 线程功能操作库\n",
    "import threading\n",
    "import inspect\n",
    "import ctypes\n",
    "import matplotlib.pyplot as plt"
   ]
  },
  {
   "cell_type": "code",
   "execution_count": 15,
   "metadata": {},
   "outputs": [],
   "source": [
    "def _async_raise(tid, exctype):\n",
    "    \"\"\"raises the exception, performs cleanup if needed\"\"\"\n",
    "    tid = ctypes.c_long(tid)\n",
    "    if not inspect.isclass(exctype):\n",
    "        exctype = type(exctype)\n",
    "    res = ctypes.pythonapi.PyThreadState_SetAsyncExc(tid, ctypes.py_object(exctype))\n",
    "    if res == 0:\n",
    "        raise ValueError(\"invalid thread id\")\n",
    "    elif res != 1:\n",
    "        # \"\"\"if it returns a number greater than one, you're in trouble,\n",
    "        # and you should call it again with exc=NULL to revert the effect\"\"\"\n",
    "        ctypes.pythonapi.PyThreadState_SetAsyncExc(tid, None)\n",
    "        \n",
    "def stop_thread(thread):\n",
    "    _async_raise(thread.ident, SystemExit)"
   ]
  },
  {
   "cell_type": "code",
   "execution_count": 2,
   "metadata": {},
   "outputs": [
    {
     "ename": "ConnectionResetError",
     "evalue": "[Errno 104] Connection reset by peer",
     "output_type": "error",
     "traceback": [
      "\u001b[0;31m---------------------------------------------------------------------------\u001b[0m",
      "\u001b[0;31mConnectionResetError\u001b[0m                      Traceback (most recent call last)",
      "\u001b[0;32m<ipython-input-2-4a3a71b4e984>\u001b[0m in \u001b[0;36m<module>\u001b[0;34m()\u001b[0m\n\u001b[1;32m     28\u001b[0m \u001b[0;31m# 接收对方发送过来的数据\u001b[0m\u001b[0;34m\u001b[0m\u001b[0;34m\u001b[0m\u001b[0;34m\u001b[0m\u001b[0m\n\u001b[1;32m     29\u001b[0m \u001b[0;32mwhile\u001b[0m\u001b[0;34m(\u001b[0m\u001b[0;36m1\u001b[0m\u001b[0;34m)\u001b[0m\u001b[0;34m:\u001b[0m\u001b[0;34m\u001b[0m\u001b[0;34m\u001b[0m\u001b[0m\n\u001b[0;32m---> 30\u001b[0;31m     \u001b[0mrecv_data\u001b[0m \u001b[0;34m=\u001b[0m \u001b[0mclient_socket\u001b[0m\u001b[0;34m.\u001b[0m\u001b[0mrecv\u001b[0m\u001b[0;34m(\u001b[0m\u001b[0;36m1024\u001b[0m\u001b[0;34m)\u001b[0m  \u001b[0;31m# 接收1024个字节\u001b[0m\u001b[0;34m\u001b[0m\u001b[0;34m\u001b[0m\u001b[0m\n\u001b[0m\u001b[1;32m     31\u001b[0m     \u001b[0;31m#print('接收到的数据为:', recv_data.decode('gbk'))\u001b[0m\u001b[0;34m\u001b[0m\u001b[0;34m\u001b[0m\u001b[0;34m\u001b[0m\u001b[0m\n\u001b[1;32m     32\u001b[0m     \u001b[0;32mif\u001b[0m \u001b[0mrecv_data\u001b[0m\u001b[0;34m.\u001b[0m\u001b[0mdecode\u001b[0m\u001b[0;34m(\u001b[0m\u001b[0;34m'gbk'\u001b[0m\u001b[0;34m)\u001b[0m\u001b[0;34m==\u001b[0m\u001b[0;34m'w'\u001b[0m\u001b[0;34m:\u001b[0m\u001b[0;34m\u001b[0m\u001b[0;34m\u001b[0m\u001b[0m\n",
      "\u001b[0;31mConnectionResetError\u001b[0m: [Errno 104] Connection reset by peer"
     ]
    }
   ],
   "source": [
    "import YB_Pcb_Car  #导入亚博智能专用的底层库文件\n",
    "\n",
    "car = YB_Pcb_Car.YB_Pcb_Car()\n",
    "car.Ctrl_Servo(4,80)\n",
    "car.Ctrl_Servo(2,110)\n",
    "import socket\n",
    "#import YB_Pcb_Car as car\n",
    "import time\n",
    "# 创建socket\n",
    "tcp_server_socket = socket.socket(socket.AF_INET, socket.SOCK_STREAM)\n",
    "\n",
    "# 本地信息\n",
    "address = ('', 7788)\n",
    "\n",
    "# 绑定\n",
    "tcp_server_socket.bind(address)\n",
    "\n",
    "# 使用socket创建的套接字默认的属性是主动的，\n",
    "# 使用listen将其变为被动的，这样就可以接收别人的链接了\n",
    "tcp_server_socket.listen(128)\n",
    "\n",
    "# 如果有新的客户端来链接服务器，\n",
    "# 那么就产生一个新的套接字专门为这个客户端服务\n",
    "# client_socket用来为这个客户端服务\n",
    "# tcp_server_socket就可以省下来专门等待其他新客户端的链接\n",
    "client_socket, clientAddr = tcp_server_socket.accept()\n",
    "\n",
    "# 接收对方发送过来的数据\n",
    "while(1):\n",
    "    recv_data = client_socket.recv(1024)  # 接收1024个字节\n",
    "    #print('接收到的数据为:', recv_data.decode('gbk'))\n",
    "    if recv_data.decode('gbk')=='w':\n",
    "        car.Car_Run(150, 150)\n",
    "    if recv_data.decode('gbk')=='-':\n",
    "        time.sleep(0.07)\n",
    "        car.Car_Stop()\n",
    "    if recv_data.decode('gbk')=='s':\n",
    "        car.Car_Back(150, 150)\n",
    "        time.sleep(0.07)\n",
    "        car.Car_Stop()\n",
    "        \n",
    "\n",
    "client_socket.close()"
   ]
  },
  {
   "cell_type": "markdown",
   "metadata": {},
   "source": [
    "# 车体状态显示部分进程"
   ]
  },
  {
   "cell_type": "markdown",
   "metadata": {},
   "source": [
    "##### 自动驾驶"
   ]
  },
  {
   "cell_type": "code",
   "execution_count": 4,
   "metadata": {},
   "outputs": [
    {
     "data": {
      "application/vnd.jupyter.widget-view+json": {
       "model_id": "0b6d5b71533a4ca1a6a154d0458970db",
       "version_major": 2,
       "version_minor": 0
      },
      "text/plain": [
       "HBox(children=(FloatSlider(value=0.0, description='TurnZ_PID', min=-100.0, orientation='vertical', step=0.01),…"
      ]
     },
     "metadata": {},
     "output_type": "display_data"
    }
   ],
   "source": [
    "#转向PID输出值\n",
    "TurnZ_PID_slider = widgets.FloatSlider(description='TurnZ_PID', min=-100, max=100.0, step=0.01, orientation='Vertical')\n",
    "# create a horizontal box container to place the sliders next to eachother\n",
    "slider_container = widgets.HBox([TurnZ_PID_slider])\n",
    "# display the container in this cell's output\n",
    "display(slider_container)"
   ]
  },
  {
   "cell_type": "code",
   "execution_count": 5,
   "metadata": {},
   "outputs": [],
   "source": [
    "#bgr8转jpeg格式\n",
    "import enum\n",
    "import cv2\n",
    "\n",
    "def bgr8_to_jpeg(value, quality=75):\n",
    "    return bytes(cv2.imencode('.jpg', value)[1])"
   ]
  },
  {
   "cell_type": "code",
   "execution_count": 6,
   "metadata": {},
   "outputs": [
    {
     "data": {
      "application/vnd.jupyter.widget-view+json": {
       "model_id": "8d85fbdc26a0474f9948a2990b55c4cb",
       "version_major": 2,
       "version_minor": 0
      },
      "text/plain": [
       "Image(value=b'', format='jpg', height='240', width='320')"
      ]
     },
     "metadata": {},
     "output_type": "display_data"
    }
   ],
   "source": [
    "#摄像头组件显示\n",
    "import cv2\n",
    "import ipywidgets.widgets as widgets\n",
    "import threading\n",
    "import time\n",
    "import numpy as np\n",
    "import matplotlib.pyplot as plt\n",
    "import PID\n",
    "\n",
    "image_widget = widgets.Image(format='jpg', width=320, height=240)\n",
    "display(image_widget)"
   ]
  },
  {
   "cell_type": "code",
   "execution_count": 7,
   "metadata": {},
   "outputs": [
    {
     "data": {
      "application/vnd.jupyter.widget-view+json": {
       "model_id": "1a5c82f887e247408633b088a9ba9935",
       "version_major": 2,
       "version_minor": 0
      },
      "text/plain": [
       "Image(value=b'', format='jpg', height='240', width='320')"
      ]
     },
     "metadata": {},
     "output_type": "display_data"
    }
   ],
   "source": [
    "#俯视图\n",
    "image_widget_1 = widgets.Image(format='jpg', width=320, height=240)\n",
    "display(image_widget_1)"
   ]
  },
  {
   "cell_type": "code",
   "execution_count": 8,
   "metadata": {},
   "outputs": [
    {
     "data": {
      "application/vnd.jupyter.widget-view+json": {
       "model_id": "92baf2a893b94f49a05f0b014133c8a2",
       "version_major": 2,
       "version_minor": 0
      },
      "text/plain": [
       "Image(value=b'', format='jpg', height='240', width='320')"
      ]
     },
     "metadata": {},
     "output_type": "display_data"
    }
   ],
   "source": [
    "#归一化图+左线（淡绿色） 图像中线（紫色）实际中线（蓝色） 右线（绿色）\n",
    "image_widget_2 = widgets.Image(format='jpg', width=320, height=240)\n",
    "display(image_widget_2)"
   ]
  },
  {
   "cell_type": "code",
   "execution_count": 9,
   "metadata": {
    "scrolled": true
   },
   "outputs": [
    {
     "data": {
      "text/plain": [
       "True"
      ]
     },
     "execution_count": 9,
     "metadata": {},
     "output_type": "execute_result"
    }
   ],
   "source": [
    "image = cv2.VideoCapture(0)\n",
    "image.set(3,640)\n",
    "image.set(4,480)\n",
    "image.set(5, 30)  #设置帧率\n",
    "# fourcc = cv2.VideoWriter_fourcc(*\"MPEG\")\n",
    "image.set(cv2.CAP_PROP_FOURCC, cv2.VideoWriter.fourcc('M', 'J', 'P', 'G'))\n",
    "image.set(cv2.CAP_PROP_BRIGHTNESS, 60) #设置亮度 -64 - 64  0.0  40\n",
    "#image.set(cv2.CAP_PROP_CONTRAST, 50) #设置对比度 -64 - 64  2.0  50\n",
    "#image.set(cv2.CAP_PROP_EXPOSURE, 156) #设置曝光值 1.0 - 5000  156.0 156\n",
    "#ret, frame = image.read()\n",
    "#image_widget.value = bgr8_to_jpeg(frame)"
   ]
  },
  {
   "cell_type": "markdown",
   "metadata": {},
   "source": [
    "# 以下正式开始自动驾驶的进程"
   ]
  },
  {
   "cell_type": "code",
   "execution_count": 10,
   "metadata": {},
   "outputs": [],
   "source": [
    "global Z_axis_pid\n",
    "Z_axis_pid = PID.PositionalPID(0.5, 0, 1)  #1.2 0 0.1   （0.8 0.0 1.0可以跑有点震荡 0.85 0 2.0）\n",
    "global prev_left\n",
    "prev_left = 0\n",
    "global prev_right\n",
    "prev_right = 0"
   ]
  },
  {
   "cell_type": "code",
   "execution_count": 11,
   "metadata": {
    "scrolled": true
   },
   "outputs": [],
   "source": [
    "def Camera_display():\n",
    "    global peaks_count\n",
    "    global prev_left, prev_right\n",
    "    t_start = time.time()\n",
    "    fps = 0\n",
    "    global Z_axis_pid\n",
    "    while 1:\n",
    "        #1、获取图像\n",
    "        ret, frame = image.read()\n",
    "        \n",
    "        #帧率显示\n",
    "        fps = fps + 1\n",
    "        mfps = fps / (time.time() - t_start)\n",
    "        cv2.putText(frame, \"FPS: \" + str(int(mfps)), (80,80), cv2.FONT_HERSHEY_SIMPLEX, 3.0, (0,255,255), 8)\n",
    "        \n",
    "        #图像resize\n",
    "        frame = cv2.resize(frame,(320,240))\n",
    "        \n",
    "        \n",
    "        #2、透视变换 (查看俯视图)\n",
    "        matSrc = np.float32([[0, 240],  [320, 240], [320, 153], [0, 153]])\n",
    "        matDst = np.float32([[0,240], [320,240], [320,0], [0,0]])\n",
    "        matAffine = cv2.getPerspectiveTransform(matSrc,matDst)# mat 1 src 2 dst\n",
    "        dst = cv2.warpPerspective(frame,matAffine,(320,240))\n",
    "        \n",
    "        #画蓝色的矩形框，采集数据的时候采集的就是当前蓝色矩形框中的数据\n",
    "        #src 4->dst 4 (左下角 右下角 右上角 左上角 )\n",
    "        pts = np.array([[0, 240],  [320, 240], [320, 153], [0, 153]], np.int32)\n",
    "        # 顶点个数：4，矩阵变成4*1*2维\n",
    "        # OpenCV中需要将多边形的顶点坐标变成顶点数×1×2维的矩阵\n",
    "        # 这里 reshape 的第一个参数为-1, 表示“任意”，意思是这一维的值是根据后面的维度的计算出来的       \n",
    "        pts = pts.reshape((-1, 1, 2))\n",
    "        cv2.polylines(frame, [pts],True, (255, 0, 0), 3) #True表示闭合，（255,0,0）是蓝色，3是线宽\n",
    "        hsv = cv2.cvtColor(dst, cv2.COLOR_BGR2HSV)\n",
    "        lower_red = np.array([0, 50, 50])\n",
    "        upper_red = np.array([10, 255, 255])\n",
    "        lower_red2 = np.array([170, 50, 50])\n",
    "        upper_red2 = np.array([180, 255, 255])\n",
    "        red_mask1 = cv2.inRange(hsv, lower_red, upper_red)\n",
    "        red_mask2 = cv2.inRange(hsv, lower_red2, upper_red2)\n",
    "    #red_mask = cv.bitwise_and(frame, frame, mask=red_mask)\n",
    "        dst= cv2.bitwise_or(red_mask1, red_mask2)\n",
    "        dst=cv2.bitwise_not(dst)\n",
    "        #cv.imwrite('./photos/red_mask.jpg', red_mask)\n",
    "        #img_show(dst,\"red\")\n",
    "        #3、转化图像二值化(看二值化之后的黑白图像）\n",
    "        #dst_gray = cv2.cvtColor(dst, cv2.COLOR_RGB2GRAY)   #转灰度\n",
    "        #dst_retval, dst_binaryzation = cv2.threshold(dst_gray, 120, 255, cv2.THRESH_BINARY)   #二值化\n",
    "        dst_binaryzation = cv2.erode(dst, None, iterations=1)                    #腐蚀化操作\n",
    "        \n",
    " \n",
    "        # 当axis为0时,是压缩行,即将每一列的元素相加,将矩阵压缩为一行\n",
    "        # 当axis为1时,是压缩列,即将每一行的元素相加,将矩阵压缩为一列(这里的一列是为了方便理解说的，实际上，在控制台的输出中，仍然是以一行的形式输出的)\n",
    "        histogram = np.sum(dst_binaryzation[dst_binaryzation.shape[0]//2:, :], axis=0)  #我们这里是一维数组\n",
    "        midpoint = np.int(histogram.shape[0]/2) #直方图垂直尺寸\n",
    "        \n",
    "        left_sum = np.sum(histogram[:20], axis=0)  #计算左边像素点之和\n",
    "        right_sum = np.sum(histogram[300:], axis=0)  #计算右边像素点之和\n",
    "        \n",
    "        #print(\"left_sum =%d \"%left_sum)\n",
    "        #print(\"right_sum = %d\"%right_sum)\n",
    "        \n",
    "        \n",
    "        rightpoint = 320\n",
    "        center_r = 159\n",
    "        #print (histogram)\n",
    "        #print(histogram[::-1])\n",
    "        #plt.plot(histogram)\n",
    "        #plt.plot(histogram[::-1])\n",
    "        #plt.show()\n",
    "        \n",
    "        #4、获取黑线左右边线并绘制线条\n",
    "        #获取左右线的位置\n",
    "        leftx_base = np.argmin(histogram[:rightpoint], axis = 0)\n",
    "        rightx_base = np.argmin(histogram[::-1][:rightpoint], axis = 0) #反转直方图取最右侧的值\n",
    "        rightx_base = 319 - rightx_base\n",
    "\n",
    "        dst_binaryzation = cv2.cvtColor(dst_binaryzation,cv2.COLOR_GRAY2RGB)\n",
    "        cv2.line(dst_binaryzation,(159,0),(159,240),(255,0,255),2)  #图像中线 紫色 # fix liusen 200321  149->159\n",
    "        lane_center = int((leftx_base + rightx_base)/2)  #左右线中间位置\n",
    "        #print(\"lane_center\")\n",
    "        #print(lane_center)\n",
    "        cv2.line(dst_binaryzation,(leftx_base,0),(leftx_base,240),(0,255,0),2)   # 赛道左侧位置\n",
    "        cv2.line(dst_binaryzation,(rightx_base,0),(rightx_base,240),(0,255,0),2) # 赛道右侧位置\n",
    "        cv2.line(dst_binaryzation,(lane_center,0),(lane_center,240),(255,0,0),2) # 实际中线位置\n",
    "        \n",
    "        left_sum_value = int(np.sum(histogram[:center_r], axis = 0))/159\n",
    "        right_sum_value = int(np.sum(histogram[center_r:], axis = 0))/159\n",
    "        #print(\"left_sum_value = %d\", left_sum_value)\n",
    "        #print(\"right_sum_value = %d\", right_sum_value)\n",
    "        #5、计算偏差值\n",
    "        Bias = 159 - lane_center\n",
    "        #Bias = 0\n",
    "        cv2.putText(dst_binaryzation, \"FPS:  \" + str(int(mfps)), (10,15), cv2.FONT_HERSHEY_SIMPLEX, 0.5, (0,255,255), 1)\n",
    "        cv2.putText(dst_binaryzation, \"Bias: \" + str(int(Bias)), (10,35), cv2.FONT_HERSHEY_SIMPLEX, 0.5, (0,255,255), 1)\n",
    "        #print(Bias)\n",
    "        \n",
    "        #转向角PID调节\n",
    "        Z_axis_pid.SystemOutput = Bias\n",
    "        Z_axis_pid.SetStepSignal(0)\n",
    "        Z_axis_pid.SetInertiaTime(0.5, 0.2)\n",
    "        \n",
    "        \n",
    "        if Z_axis_pid.SystemOutput > 25: # 20\n",
    "            Z_axis_pid.SystemOutput = 25\n",
    "        elif Z_axis_pid.SystemOutput < -25:\n",
    "            Z_axis_pid.SystemOutput = -25\n",
    "            \n",
    "        TurnZ_PID_slider.value = int(Z_axis_pid.SystemOutput)\n",
    "        if leftx_base == 0 and rightx_base == 319:\n",
    "            if prev_left > prev_right:\n",
    "                #car.Control_Car(0, 0)\n",
    "                car.Control_Car(-50, 40)\n",
    "            elif prev_left < prev_right:\n",
    "                car.Control_Car(50, -50)\n",
    "                #car.Control_Car(0, 0)\n",
    "                \n",
    "            prev_left = 0\n",
    "            prev_right = 0\n",
    "            \n",
    "        else:\n",
    "            if Bias > 3:   #黑线在中线的左边，小车左转（左边速度减小，右边速度增大）\n",
    "                #prev_left = 1\n",
    "                #prev_right = 0\n",
    "                if Bias > 140: \n",
    "                    car.Control_Car(-50, 40)\n",
    "                    prev_left = 0\n",
    "                    prev_right = 0\n",
    "                else:\n",
    "                    car.Control_Car(45+int(Z_axis_pid.SystemOutput), 45-int(Z_axis_pid.SystemOutput))\n",
    "                time.sleep(0.001) \n",
    "            elif Bias < -3:    #黑线在中线的右边，小车右转   （左边速度增大，右边速度减小）\n",
    "                #prev_right = 1\n",
    "                #prev_left = 0\n",
    "                if Bias < -140:   \n",
    "                    car.Control_Car(40, -50)\n",
    "                    prev_left = 0\n",
    "                    prev_right = 0\n",
    "                else:\n",
    "                    car.Control_Car(45+int(Z_axis_pid.SystemOutput), 45-int(Z_axis_pid.SystemOutput))\n",
    "                time.sleep(0.001)\n",
    "\n",
    "            else:\n",
    "                #car.Car_Run(45, 45)\n",
    "                car.Car_Run(0, 0)\n",
    "     \n",
    "        \n",
    "\n",
    "\n",
    "        if left_sum != right_sum:\n",
    "            if left_sum < right_sum:\n",
    "                prev_left = prev_left + 1\n",
    "            elif right_sum < left_sum:\n",
    "                prev_right = prev_right + 1\n",
    "     \n",
    "        image_widget.value = bgr8_to_jpeg(frame)\n",
    "        image_widget_1.value = bgr8_to_jpeg(dst)\n",
    "        image_widget_2.value = bgr8_to_jpeg(dst_binaryzation)\n",
    "\n"
   ]
  },
  {
   "cell_type": "code",
   "execution_count": 12,
   "metadata": {
    "scrolled": true
   },
   "outputs": [],
   "source": [
    "#自动驾驶进程启动\n",
    "thread3 = threading.Thread(target=Camera_display)\n",
    "thread3.setDaemon(True)\n",
    "thread3.start()"
   ]
  },
  {
   "cell_type": "code",
   "execution_count": 13,
   "metadata": {},
   "outputs": [],
   "source": [
    "#结束自动驾驶进程\n",
    "stop_thread(thread3)\n",
    "car.Car_Stop()"
   ]
  },
  {
   "cell_type": "code",
   "execution_count": 36,
   "metadata": {},
   "outputs": [
    {
     "name": "stderr",
     "output_type": "stream",
     "text": [
      "Exception in thread Thread-8:\n",
      "Traceback (most recent call last):\n",
      "  File \"/usr/lib/python3.7/threading.py\", line 917, in _bootstrap_inner\n",
      "    self.run()\n",
      "  File \"/usr/lib/python3.7/threading.py\", line 865, in run\n",
      "    self._target(*self._args, **self._kwargs)\n",
      "  File \"<ipython-input-14-af2b9e68e382>\", line 17, in Camera_display\n",
      "    frame = cv2.resize(frame,(320,240))\n",
      "cv2.error: OpenCV(4.5.0-dev) /home/pi/opencv/modules/imgproc/src/resize.cpp:4051: error: (-215:Assertion failed) !ssize.empty() in function 'resize'\n",
      "\n",
      "\n"
     ]
    }
   ],
   "source": [
    "image.release()"
   ]
  },
  {
   "cell_type": "code",
   "execution_count": null,
   "metadata": {},
   "outputs": [],
   "source": []
  },
  {
   "cell_type": "code",
   "execution_count": null,
   "metadata": {},
   "outputs": [],
   "source": []
  },
  {
   "cell_type": "code",
   "execution_count": null,
   "metadata": {},
   "outputs": [],
   "source": []
  },
  {
   "cell_type": "code",
   "execution_count": null,
   "metadata": {},
   "outputs": [],
   "source": []
  },
  {
   "cell_type": "code",
   "execution_count": null,
   "metadata": {},
   "outputs": [],
   "source": []
  },
  {
   "cell_type": "code",
   "execution_count": null,
   "metadata": {},
   "outputs": [],
   "source": []
  },
  {
   "cell_type": "code",
   "execution_count": null,
   "metadata": {},
   "outputs": [],
   "source": []
  },
  {
   "cell_type": "code",
   "execution_count": null,
   "metadata": {},
   "outputs": [],
   "source": []
  }
 ],
 "metadata": {
  "kernelspec": {
   "display_name": "Python 3",
   "language": "python",
   "name": "python3"
  },
  "language_info": {
   "codemirror_mode": {
    "name": "ipython",
    "version": 3
   },
   "file_extension": ".py",
   "mimetype": "text/x-python",
   "name": "python",
   "nbconvert_exporter": "python",
   "pygments_lexer": "ipython3",
   "version": "3.7.3"
  }
 },
 "nbformat": 4,
 "nbformat_minor": 4
}
